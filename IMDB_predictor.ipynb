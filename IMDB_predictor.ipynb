{
 "cells": [
  {
   "cell_type": "markdown",
   "metadata": {},
   "source": [
    "### IMDB rating prediction "
   ]
  },
  {
   "cell_type": "code",
   "execution_count": 5,
   "metadata": {},
   "outputs": [],
   "source": [
    "import pandas as pd\n",
    "import numpy as np\n",
    "\n",
    "from sklearn.impute import SimpleImputer\n",
    "from sklearn.pipeline import Pipeline\n",
    "from sklearn.preprocessing import OrdinalEncoder, RobustScaler\n",
    "from sklearn.compose import ColumnTransformer\n",
    "from imblearn.over_sampling import SMOTE\n",
    "from sklearn.metrics import classification_report\n",
    "from sklearn.metrics import confusion_matrix\n",
    "from sklearn import ensemble\n",
    "\n",
    "from sklearn.model_selection import train_test_split\n",
    "from sklearn import model_selection\n",
    "import matplotlib.pyplot as plt"
   ]
  },
  {
   "cell_type": "markdown",
   "metadata": {},
   "source": [
    "#### Below cell could be ignored as it just used for data analysis purpose"
   ]
  },
  {
   "cell_type": "code",
   "execution_count": 6,
   "metadata": {},
   "outputs": [],
   "source": [
    "# df.shape\n",
    "\n",
    "# df.info()\n",
    "\n",
    "# df.describe().T\n",
    "\n",
    "# total =df.isnull().sum().sort_values(ascending=False)\n",
    "\n",
    "# percent = (df.isnull().sum()*100/df.isnull().count()).sort_values(ascending=False)\n",
    "# missing_data = pd.concat([total, percent], axis=1, keys=['Total', 'Percentage'])\n",
    "# head = missing_data.head(20)\n",
    "\n",
    "# col = df['color'].value_counts()\n",
    "# lan = df['language'].value_counts()\n",
    "# cou = df['country'].value_counts()\n",
    "# con = df['content_rating'].value_counts()\n",
    "# imd = df['imdb_score'].value_counts()\n",
    "# asp = df['aspect_ratio'].value_counts()\n",
    "# plot = df['plot_keywords'].value_counts()\n",
    "# gen = df['genres'].value_counts()\n",
    "# print(col,lan,cou,con,imd,asp,plot,gen)\n",
    "\n",
    "# data_groupby_ratings = df.groupby(['imdb_score'])['movie_title'].count()\n",
    "# data_groupby_ratings.plot()\n",
    "# print(\"we can see more than 200 movies have rating of around 6.5\")\n",
    "\n",
    "# sns.set(style=\"darkgrid\")\n",
    "# plt.figure(figsize = (12, 6))\n",
    "# sns.countplot(x=\"language\", data = df)\n",
    "# ax = plt.xticks(rotation=90)\n",
    "\n",
    "# sns.set(style=\"darkgrid\")\n",
    "# sns.countplot(x=\"color\", data = df)\n",
    "\n",
    "# # Lists of numeric data types\n",
    "# numerics = ['int16', 'int32', 'int64', 'float16', 'float32', 'float64']\n",
    "# # Obtain dataframe containing only numeric data\n",
    "# dfMainNumerics = df.select_dtypes(include=numerics)\n",
    "# # Creating figure\n",
    "# plt.figure(figsize=(12, 8))\n",
    "# sns.heatmap(dfMainNumerics.corr(), annot = True, fmt = \".3f\", linewidths = .5, cmap = 'Blues_r');\n",
    "# plt.title('Main dataframe correlation', fontsize=18, bbox={'facecolor':'1.9', 'pad':3})\n",
    "# plt.show()\n",
    "\n",
    "# from ggplot import *\n",
    "# p = ggplot(aes(x='imdb_score', y='duration', color='imdb_score'), data=df) +\\\n",
    "#         geom_point() +\\\n",
    "#         scale_fill_brewer() +\\\n",
    "#         ggtitle(\"Correlation between imdb_score and duration\")\n",
    "        \n",
    "# t = theme_gray()\n",
    "# t._rcParams['font.size'] = 15 # Legend font size\n",
    "# t._rcParams['xtick.labelsize'] = 10 # xaxis tick label size\n",
    "# t._rcParams['ytick.labelsize'] = 10 # yaxis tick label size\n",
    "# t._rcParams['axes.labelsize'] = 8  # axis label size\n",
    "# p + t\n",
    "\n",
    "# from ggplot import *\n",
    "# p = ggplot(aes(x='imdb_score', y='num_user_for_reviews' , color='imdb_score'), data=df) +\\\n",
    "#         geom_point() +\\\n",
    "#         scale_fill_brewer() +\\\n",
    "#         ggtitle(\"Correlation between imdb_score and num_user_for_reviews\")\n",
    "        \n",
    "# t = theme_gray()\n",
    "# t._rcParams['font.size'] = 15 # Legend font size\n",
    "# t._rcParams['xtick.labelsize'] = 10 # xaxis tick label size\n",
    "# t._rcParams['ytick.labelsize'] = 10 # yaxis tick label size\n",
    "# t._rcParams['axes.labelsize'] = 8  # axis label size\n",
    "# p + t\n",
    "\n",
    "# from ggplot import *\n",
    "# p = ggplot(aes(x='imdb_score', y='actor_1_facebook_likes' , color='imdb_score'), data=df) +\\\n",
    "#         geom_point() +\\\n",
    "#         scale_fill_brewer() +\\\n",
    "#         ggtitle(\"Correlation between imdb_score and actor_1_facebook_likes\")\n",
    "        \n",
    "# t = theme_gray()\n",
    "# t._rcParams['font.size'] = 15 # Legend font size\n",
    "# t._rcParams['xtick.labelsize'] = 10 # xaxis tick label size\n",
    "# t._rcParams['ytick.labelsize'] = 10 # yaxis tick label size\n",
    "# t._rcParams['axes.labelsize'] = 8  # axis label size\n",
    "# p + t\n",
    "\n",
    "# from ggplot import *\n",
    "# p = ggplot(aes(x='imdb_score', y='director_facebook_likes' , color='imdb_score'), data=df) +\\\n",
    "#         geom_point() +\\\n",
    "#         scale_fill_brewer() +\\\n",
    "#         ggtitle(\"Correlation between imdb_score and director_facebook_likes\")\n",
    "        \n",
    "# t = theme_gray()\n",
    "# t._rcParams['font.size'] = 15 # Legend font size\n",
    "# t._rcParams['xtick.labelsize'] = 10 # xaxis tick label size\n",
    "# t._rcParams['ytick.labelsize'] = 10 # yaxis tick label size\n",
    "# t._rcParams['axes.labelsize'] = 8  # axis label size\n",
    "# p + t\n",
    "\n",
    "# from ggplot import *\n",
    "# p = ggplot(aes(x='imdb_score', y='facenumber_in_poster' , color='imdb_score'), data=df) +\\\n",
    "#         geom_point() +\\\n",
    "#         scale_fill_brewer() +\\\n",
    "#         ggtitle(\"Correlation between imdb_score and facenumber_in_poster\")\n",
    "        \n",
    "# t = theme_gray()\n",
    "# t._rcParams['font.size'] = 15 # Legend font size\n",
    "# t._rcParams['xtick.labelsize'] = 10 # xaxis tick label size\n",
    "# t._rcParams['ytick.labelsize'] = 10 # yaxis tick label size\n",
    "# t._rcParams['axes.labelsize'] = 8  # axis label size\n",
    "# p + t\n",
    "\n",
    "# from ggplot import *\n",
    "# p = ggplot(aes(x='imdb_score', y='budget' , color='imdb_score'), data=df) +\\\n",
    "#         geom_point() +\\\n",
    "#         scale_fill_brewer() +\\\n",
    "#         ggtitle(\"Correlation between imdb_score and budget\")\n",
    "        \n",
    "# t = theme_gray()\n",
    "# t._rcParams['font.size'] = 15 # Legend font size\n",
    "# t._rcParams['xtick.labelsize'] = 10 # xaxis tick label size\n",
    "# t._rcParams['ytick.labelsize'] = 10 # yaxis tick label size\n",
    "# t._rcParams['axes.labelsize'] = 8  # axis label size\n",
    "# p + t"
   ]
  },
  {
   "cell_type": "markdown",
   "metadata": {},
   "source": [
    "#### Loading data in DataFrame\n"
   ]
  },
  {
   "cell_type": "code",
   "execution_count": 7,
   "metadata": {},
   "outputs": [],
   "source": [
    "file_name = \"./movie_metadata.csv\"\n",
    "df = pd.read_csv(file_name)"
   ]
  },
  {
   "cell_type": "markdown",
   "metadata": {},
   "source": [
    "#### Removing insignificant features\n",
    "\n"
   ]
  },
  {
   "cell_type": "code",
   "execution_count": 8,
   "metadata": {},
   "outputs": [],
   "source": [
    "df.drop('movie_imdb_link', axis=1, inplace=True) #unique site links with no co-relation\n",
    "df.drop('genres', axis=1, inplace=True) # uncleansed features\n",
    "df.drop('plot_keywords', axis=1, inplace=True) # uncleansed features\n",
    "df.drop('color', axis=1, inplace=True) # 99% movies are color"
   ]
  },
  {
   "cell_type": "markdown",
   "metadata": {},
   "source": [
    "#### Explanation given in section 2 and 3."
   ]
  },
  {
   "cell_type": "code",
   "execution_count": 9,
   "metadata": {},
   "outputs": [],
   "source": [
    "def preprocess(df, numerical_features, categorical_features):\n",
    "    # Using pipeline to transfer preprocessed df\n",
    "    numeric_transformer = Pipeline(steps=[\n",
    "        # ('imputer', SimpleImputer(strategy='mean')  # updating missing value with mean\n",
    "        # ('imputer', SimpleImputer(strategy='constant', fill_value=0 )),   updating missing value with 0\n",
    "        ('imputer', SimpleImputer(strategy='median')), # updating missing value with median\n",
    "        ('scaler', RobustScaler())]) # Standardization of a dataset\n",
    "\n",
    "    categorical_transformer = Pipeline(steps=[\n",
    "        ('imputer', SimpleImputer(strategy='constant', fill_value='missing')), # updating missing value with missing\n",
    "        ('ordinal', OrdinalEncoder())]) #Encoding categorical features as an integer array\n",
    "    # Applying transformers to columns\n",
    "    preprocessor = ColumnTransformer(\n",
    "        transformers=[\n",
    "            ('num', numeric_transformer, numerical_features),\n",
    "            ('cat', categorical_transformer, categorical_features)])\n",
    "\n",
    "    df = pd.DataFrame(preprocessor.fit_transform(df))\n",
    "\n",
    "    return df, preprocessor"
   ]
  },
  {
   "cell_type": "markdown",
   "metadata": {},
   "source": [
    "#### Re-balance using SMOTE"
   ]
  },
  {
   "cell_type": "code",
   "execution_count": 10,
   "metadata": {},
   "outputs": [],
   "source": [
    "def imbalance_handling(x_train, y_train, x_test, y_test, data, target):\n",
    "    smote = SMOTE(n_jobs=-1) \n",
    "    data, target = smote.fit_sample(data, target)\n",
    "    x_train, y_train = smote.fit_sample(x_train, y_train)\n",
    "    x_test, y_test = smote.fit_sample(x_test, y_test)\n",
    "    data, x_train, x_test = pd.DataFrame(data), pd.DataFrame(x_train), pd.DataFrame(x_test)\n",
    "    target, y_train, y_test = pd.Series(target), pd.Series(y_train), pd.Series(y_test)\n",
    "    target, y_train, y_test = target.ravel(), y_train.ravel(), y_test.ravel()\n",
    "    return x_train, y_train, x_test, y_test, data, target"
   ]
  },
  {
   "cell_type": "markdown",
   "metadata": {},
   "source": [
    "#### Cross-validation with Feature selection [section 3]"
   ]
  },
  {
   "cell_type": "code",
   "execution_count": 11,
   "metadata": {},
   "outputs": [],
   "source": [
    "def cross_validation(x_train, y_train, x_test, y_test, full_data, full_target, max_depth, column_names):\n",
    "    print(\"\\n\\n#*************** Running Cross Validations using RandomForestClassifier with feature selection ***************#\")\n",
    "\n",
    "    # cv_classifier = ensemble.ExtraTreesClassifier(max_depth=max_depth, n_jobs=-1)\n",
    "    # test_classifier = ensemble.ExtraTreesClassifier(max_depth=max_depth, n_jobs=-1)\n",
    "    cv_classifier = ensemble.RandomForestClassifier(max_depth=max_depth, n_jobs=-1)\n",
    "    test_classifier = ensemble.RandomForestClassifier(max_depth=max_depth, n_jobs=-1)\n",
    "    # cv_classifier = ensemble.GradientBoostingClassifier(max_depth=max_depth)\n",
    "    # test_classifier = ensemble.GradientBoostingClassifier(max_depth=max_depth)\n",
    "\n",
    "    cv_classifier.fit(full_data, full_target)\n",
    "    test_classifier.fit(x_train, y_train)\n",
    "\n",
    "    features_importance = cv_classifier.feature_importances_\n",
    "    ser = pd.Series(features_importance)\n",
    "    ser.index = column_names\n",
    "    ser.plot(kind='bar')\n",
    "    plt.title(\"Feature Importance\")\n",
    "    plt.show()\n",
    "\n",
    "    # trim feature having importance below than feature_importance\n",
    "    feature_importance = 0.05\n",
    "\n",
    "    while len(features_importance[features_importance < feature_importance]) > 0:\n",
    "        bool_array = features_importance >= feature_importance\n",
    "        x_train = x_train.loc[:, bool_array]\n",
    "        x_test = x_test.loc[:, bool_array]\n",
    "        full_data = full_data.loc[:, bool_array]\n",
    "\n",
    "        cv_classifier.fit(full_data, full_target)\n",
    "        test_classifier.fit(x_train, y_train)\n",
    "\n",
    "        features_importance = cv_classifier.feature_importances_\n",
    "\n",
    "        print(\"\\n\\n#***************Accuracy after Feature selection***************#\")\n",
    "\n",
    "        predicted = test_classifier.predict(x_test)\n",
    "\n",
    "        print(\"\\nClassification Report - Test:\\n\" + str(classification_report(y_test, predicted)))\n",
    "        print(\"\\nConfusion Matrix - Test:\\n\" + str(confusion_matrix(y_test, predicted)))\n",
    "        print(\"\\nAfter feature selection - Test Score: %f\" % (test_classifier.score(x_test, y_test) * 100) + \"%\")\n",
    "\n",
    "        cv_score = model_selection.cross_val_score(cv_classifier, full_data, full_target, cv=10,\n",
    "                                                   scoring='accuracy', n_jobs=-1)\n",
    "\n",
    "        print(\"\\nCross-validation Score of RandomForestClassifier: \" + str(cv_score * 100))\n",
    "        print(\"Mean: %f\" % (cv_score.mean() * 100))"
   ]
  },
  {
   "cell_type": "markdown",
   "metadata": {},
   "source": [
    "#### hyperparameterization [section 3]"
   ]
  },
  {
   "cell_type": "code",
   "execution_count": 12,
   "metadata": {},
   "outputs": [],
   "source": [
    "def hyperparameter_crossV(feature_train, target_train, feature_test, target_test, full_train, full_target):\n",
    "    param_grid = [{'n_estimators': list([200, 400, 600, 850, 1100, 1200, 1550, 1850, 2000])}]\n",
    "    # using gridSearchCV with different ensemble techniques\n",
    "#     grid_search = model_selection.GridSearchCV( ensemble.RandomForestClassifier(n_jobs=-1),param_grid=param_grid, cv=10, refit=True, n_jobs=-1)\n",
    "#     grid_search = model_selection.GridSearchCV( ensemble.GradientBoostingClassifier(),param_grid=param_grid, cv=10, refit=True)\n",
    "#     grid_search = model_selection.GridSearchCV( ensemble.AdaBoostClassifier(),param_grid=param_grid, cv=10, refit=True)\n",
    "    grid_search = model_selection.GridSearchCV( ensemble.ExtraTreesClassifier(),param_grid=param_grid, cv=10, refit=True)\n",
    "\n",
    "    grid_search.fit(feature_train, target_train)\n",
    "    best_score = str(grid_search.best_score_ * 100) # save best score of grid_search\n",
    "    best_params_ = str(grid_search.best_params_) # save best parameter of grid_search\n",
    "    score = str(grid_search.score(feature_test, target_test)* 100) # save score of grid_search\n",
    "    print(\"Best Score: \" + best_score)\n",
    "    print(\"Best Params: \" + best_params_)\n",
    "    print(\"Cross Validation Score:\" + score)\n"
   ]
  },
  {
   "cell_type": "markdown",
   "metadata": {},
   "source": [
    "#### ** Preprocessing Started **\n",
    "#### ** Dropping  nonessential values **"
   ]
  },
  {
   "cell_type": "code",
   "execution_count": 13,
   "metadata": {},
   "outputs": [],
   "source": [
    "# saving imdb scores in scores variable\n",
    "scores = df['imdb_score']\n",
    "# taking mean of imdb scores\n",
    "mean = scores.mean()\n",
    "# saving values above 2 mean and below 1 mean\n",
    "df['class'] = scores.apply(lambda x: 2 if x >= mean else 1)\n",
    "\n",
    "# removing imdb_scores feature to remove bias\n",
    "df.drop('imdb_score', axis=1, inplace=True)\n",
    "#  convert categorical features to  integer codes\n",
    "category_columns = df.select_dtypes(['category']).columns\n",
    "df[category_columns] = df[category_columns].apply(lambda x: x.cat.codes)\n",
    "target = df['class']\n",
    "df.drop('class', axis=1, inplace=True)\n",
    "all_column_names = df.columns.values"
   ]
  },
  {
   "cell_type": "markdown",
   "metadata": {},
   "source": [
    "#### separating numerical and categorical features"
   ]
  },
  {
   "cell_type": "code",
   "execution_count": 24,
   "metadata": {},
   "outputs": [],
   "source": [
    "numerical_features = df.select_dtypes(include=[np.number]).columns.tolist()\n",
    "categorical_features = df.select_dtypes(exclude=[np.number]).columns.tolist()\n",
    "\n",
    "# running preprocess on numerical and categorical values\n",
    "df, preprocessor = preprocess(df, numerical_features=numerical_features,\n",
    "                                categorical_features=categorical_features)"
   ]
  },
  {
   "cell_type": "code",
   "execution_count": 15,
   "metadata": {},
   "outputs": [],
   "source": [
    "scores_df = pd.DataFrame(None)\n",
    "series = pd.Series(None)\n",
    "\n",
    "x_train, x_test, y_train, y_test = train_test_split(df, target, test_size=0.25)\n",
    "x_train, y_train, x_test, y_test, df, target = imbalance_handling(x_train, y_train, x_test, y_test, df, target)"
   ]
  },
  {
   "cell_type": "markdown",
   "metadata": {},
   "source": [
    "##### *** Using different Ensemble techniques *** [Section 3]"
   ]
  },
  {
   "cell_type": "markdown",
   "metadata": {},
   "source": [
    "#### AdaBoostClassifier"
   ]
  },
  {
   "cell_type": "code",
   "execution_count": 16,
   "metadata": {},
   "outputs": [
    {
     "name": "stdout",
     "output_type": "stream",
     "text": [
      "\n",
      "AdaBoost Classifier Test Score: 75.077160%\n"
     ]
    }
   ],
   "source": [
    "test_classifier = ensemble.AdaBoostClassifier()\n",
    "test_classifier.fit(x_train, y_train)\n",
    "score = (test_classifier.score(x_test, y_test) * 100)\n",
    "series['AdaBoostClassifier'] = score\n",
    "scores_df = scores_df.append(series, ignore_index=True)\n",
    "print(\"\\nAdaBoost Classifier Test Score: %f\" % score + \"%\")"
   ]
  },
  {
   "cell_type": "markdown",
   "metadata": {},
   "source": [
    "#### GradientBoostingClassifier"
   ]
  },
  {
   "cell_type": "code",
   "execution_count": 17,
   "metadata": {},
   "outputs": [
    {
     "name": "stdout",
     "output_type": "stream",
     "text": [
      "\n",
      "Gradient Boosting Classifier Test Score: 77.237654%\n"
     ]
    }
   ],
   "source": [
    "test_classifier = ensemble.GradientBoostingClassifier()\n",
    "test_classifier.fit(x_train, y_train)\n",
    "score = (test_classifier.score(x_test, y_test) * 100)\n",
    "series['GradientBoostingClassifier'] = score\n",
    "scores_df = scores_df.append(series, ignore_index=True)\n",
    "print(\"\\nGradient Boosting Classifier Test Score: %f\" % score + \"%\")"
   ]
  },
  {
   "cell_type": "markdown",
   "metadata": {},
   "source": [
    "#### RandomForestClassifier"
   ]
  },
  {
   "cell_type": "code",
   "execution_count": 18,
   "metadata": {},
   "outputs": [
    {
     "name": "stderr",
     "output_type": "stream",
     "text": [
      "A:\\Anaconda\\lib\\site-packages\\sklearn\\ensemble\\forest.py:245: FutureWarning: The default value of n_estimators will change from 10 in version 0.20 to 100 in 0.22.\n",
      "  \"10 in version 0.20 to 100 in 0.22.\", FutureWarning)\n"
     ]
    },
    {
     "name": "stdout",
     "output_type": "stream",
     "text": [
      "\n",
      "Random Forest Classifier Test Score: 73.996914%\n"
     ]
    }
   ],
   "source": [
    "test_classifier = ensemble.RandomForestClassifier(n_jobs=-1)\n",
    "test_classifier.fit(x_train, y_train)\n",
    "score = (test_classifier.score(x_test, y_test) * 100)\n",
    "series['RandomForestClassifier'] = score\n",
    "scores_df = scores_df.append(series, ignore_index=True)\n",
    "print(\"\\nRandom Forest Classifier Test Score: %f\" % score + \"%\")"
   ]
  },
  {
   "cell_type": "markdown",
   "metadata": {},
   "source": [
    "#### BaggingClassifier"
   ]
  },
  {
   "cell_type": "code",
   "execution_count": 19,
   "metadata": {},
   "outputs": [
    {
     "name": "stdout",
     "output_type": "stream",
     "text": [
      "\n",
      "Bagging Classifier Test Score: 73.919753%\n"
     ]
    }
   ],
   "source": [
    "test_classifier = ensemble.BaggingClassifier(n_jobs=-1)\n",
    "test_classifier.fit(x_train, y_train)\n",
    "score = (test_classifier.score(x_test, y_test) * 100)\n",
    "series['BaggingClassifier'] = score\n",
    "scores_df = scores_df.append(series, ignore_index=True)\n",
    "print(\"\\nBagging Classifier Test Score: %f\" % score + \"%\")"
   ]
  },
  {
   "cell_type": "markdown",
   "metadata": {},
   "source": [
    "#### ExtraTreesClassifier"
   ]
  },
  {
   "cell_type": "code",
   "execution_count": 20,
   "metadata": {},
   "outputs": [
    {
     "name": "stderr",
     "output_type": "stream",
     "text": [
      "A:\\Anaconda\\lib\\site-packages\\sklearn\\ensemble\\forest.py:245: FutureWarning: The default value of n_estimators will change from 10 in version 0.20 to 100 in 0.22.\n",
      "  \"10 in version 0.20 to 100 in 0.22.\", FutureWarning)\n"
     ]
    },
    {
     "name": "stdout",
     "output_type": "stream",
     "text": [
      "\n",
      "Extra Tree Classifier Test Score: 72.299383%\n"
     ]
    }
   ],
   "source": [
    "test_classifier = ensemble.ExtraTreesClassifier(n_jobs=-1)\n",
    "test_classifier.fit(x_train, y_train)\n",
    "score = (test_classifier.score(x_test, y_test) * 100)\n",
    "series['ExtraTreeClassifier'] = score\n",
    "scores_df = scores_df.append(series, ignore_index=True)\n",
    "print(\"\\nExtra Tree Classifier Test Score: %f\" % score + \"%\")"
   ]
  },
  {
   "cell_type": "code",
   "execution_count": 21,
   "metadata": {},
   "outputs": [
    {
     "data": {
      "image/png": "[encoded data removed]",
      "text/plain": [
       "<Figure size 432x288 with 1 Axes>"
      ]
     },
     "metadata": {
      "needs_background": "light"
     },
     "output_type": "display_data"
    }
   ],
   "source": [
    "scores_df.plot(kind='bar')\n",
    "plt.show()"
   ]
  },
  {
   "cell_type": "markdown",
   "metadata": {},
   "source": [
    "#### Calling cross-validation with feature selection"
   ]
  },
  {
   "cell_type": "code",
   "execution_count": 22,
   "metadata": {},
   "outputs": [
    {
     "name": "stdout",
     "output_type": "stream",
     "text": [
      "\n",
      "\n",
      "#*************** Running Cross Validations using RandomForestClassifier with feature selection ***************#\n"
     ]
    },
    {
     "name": "stderr",
     "output_type": "stream",
     "text": [
      "A:\\Anaconda\\lib\\site-packages\\sklearn\\ensemble\\forest.py:245: FutureWarning: The default value of n_estimators will change from 10 in version 0.20 to 100 in 0.22.\n",
      "  \"10 in version 0.20 to 100 in 0.22.\", FutureWarning)\n",
      "A:\\Anaconda\\lib\\site-packages\\sklearn\\ensemble\\forest.py:245: FutureWarning: The default value of n_estimators will change from 10 in version 0.20 to 100 in 0.22.\n",
      "  \"10 in version 0.20 to 100 in 0.22.\", FutureWarning)\n"
     ]
    },
    {
     "data": {
      "image/png": "[encoded data removed]",
      "text/plain": [
       "<Figure size 432x288 with 1 Axes>"
      ]
     },
     "metadata": {
      "needs_background": "light"
     },
     "output_type": "display_data"
    },
    {
     "name": "stdout",
     "output_type": "stream",
     "text": [
      "\n",
      "\n",
      "#***************Accuracy after Feature selection***************#\n",
      "\n",
      "Classification Report - Test:\n",
      "              precision    recall  f1-score   support\n",
      "\n",
      "           1       0.72      0.77      0.75       648\n",
      "           2       0.76      0.70      0.73       648\n",
      "\n",
      "    accuracy                           0.74      1296\n",
      "   macro avg       0.74      0.74      0.74      1296\n",
      "weighted avg       0.74      0.74      0.74      1296\n",
      "\n",
      "\n",
      "Confusion Matrix - Test:\n",
      "[[501 147]\n",
      " [192 456]]\n",
      "\n",
      "After feature selection - Test Score: 73.842593%\n",
      "\n",
      "Cross-validation Score of RandomForestClassifier: [72.72727273 71.81818182 72.90909091 75.3649635  73.54014599 71.35036496\n",
      " 64.7810219  54.74452555 64.59854015 58.57664234]\n",
      "Mean: 68.041075\n"
     ]
    }
   ],
   "source": [
    "# Removing less significant features and running cross validations using Random Forest\n",
    "cross_validation(x_train, y_train, x_test, y_test, full_data=df, full_target=target, max_depth=19,\n",
    "                column_names=all_column_names)"
   ]
  },
  {
   "cell_type": "markdown",
   "metadata": {},
   "source": [
    "#### Calling hyper-parameter [Section 3]"
   ]
  },
  {
   "cell_type": "code",
   "execution_count": 23,
   "metadata": {},
   "outputs": [
    {
     "name": "stdout",
     "output_type": "stream",
     "text": [
      "#**************** hyperparameter cross-Validation output ****************#\n",
      "Best Score: 80.0\n",
      "Best Params: {'n_estimators': 600}\n",
      "Cross Validation Score:78.62654320987654\n"
     ]
    }
   ],
   "source": [
    "print(\"#**************** hyperparameter cross-Validation output ****************#\")\n",
    "hyperparameter_crossV(x_train, y_train, x_test, y_test, df, target)"
   ]
  },
  {
   "cell_type": "code",
   "execution_count": null,
   "metadata": {},
   "outputs": [],
   "source": []
  }
 ],
 "metadata": {
  "kernelspec": {
   "display_name": "Python 3",
   "language": "python",
   "name": "python3"
  },
  "language_info": {
   "codemirror_mode": {
    "name": "ipython",
    "version": 3
   },
   "file_extension": ".py",
   "mimetype": "text/x-python",
   "name": "python",
   "nbconvert_exporter": "python",
   "pygments_lexer": "ipython3",
   "version": "3.7.3"
  }
 },
 "nbformat": 4,
 "nbformat_minor": 2
}
